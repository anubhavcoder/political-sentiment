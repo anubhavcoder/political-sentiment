{
 "cells": [
  {
   "cell_type": "code",
   "execution_count": 4,
   "metadata": {
    "scrolled": true
   },
   "outputs": [
    {
     "name": "stdout",
     "output_type": "stream",
     "text": [
      "Humble tribute. They make an invaluable contribution in the field of education\n",
      "Apple\n",
      "Tomorrow bright and developmental, prosperity. Asking\n"
     ]
    }
   ],
   "source": [
    "from googletrans import Translator\n",
    "translator = Translator()\n",
    "data= ['विनम्र श्रद्धांजलि। उन्होंने शिक्षा के क्षेत्र में अमूल्य योगदान देने', 'manzana', ' لغدٍ مشرق بالنماء والرخاء. سائلين']\n",
    "#so can we just replace the data with text in the .csv files?? \n",
    "translator.translate(data)\n",
    "translated = translator.translate(data, dest='en')\n",
    "\n",
    "for trans in translated:\n",
    "    print(trans.text)"
   ]
  },
  {
   "cell_type": "code",
   "execution_count": 7,
   "metadata": {},
   "outputs": [],
   "source": [
    "all_english = [\n",
    "    'realDonaldTrump',\n",
    "    'BernieSanders',\n",
    "    'JoeBiden',\n",
    "    'BorisJohnson',\n",
    "    'KingSalman'\n",
    "    'MBuhari',\n",
    "    'ScottMorrisonMP',\n",
    "    'CyrilRamaphosa',\n",
    "    'IsraeliPM',\n",
    "    'JustinTrudeau',\n",
    "]\n",
    "\n",
    "not_english = [\n",
    "#     'EmmanuelMacron',\n",
    "#     'lopezobrador_'\n",
    "#     'narendramodi',\n",
    "#     'KingSalman'\n",
    "]"
   ]
  },
  {
   "cell_type": "code",
   "execution_count": 8,
   "metadata": {},
   "outputs": [
    {
     "name": "stderr",
     "output_type": "stream",
     "text": [
      "\n",
      "  0%|          | 0/1 [00:00<?, ?it/s]\u001b[A\n",
      "100%|██████████| 1/1 [00:01<00:00,  1.27s/it]\u001b[A\n"
     ]
    }
   ],
   "source": [
    "import csv\n",
    "from tqdm import tqdm\n",
    "import time\n",
    "import datetime\n",
    "\n",
    "def inRange(tweet, start, end):\n",
    "    date = tweet[0][:10]\n",
    "    s = datetime.datetime.strptime(start, \"%Y-%m-%d\")\n",
    "    e = datetime.datetime.strptime(end, \"%Y-%m-%d\")\n",
    "    check = datetime.datetime.strptime(date, \"%Y-%m-%d\")\n",
    "    if s <= check <= e:\n",
    "        return True\n",
    "    return False\n",
    "\n",
    "total_chars = 0\n",
    "for account in tqdm(not_english):\n",
    "    translator = Translator()\n",
    "    translated_tweets = []\n",
    "    with open(f'./data/nonenglish_original/{account}.csv') as csv_file:\n",
    "        with open(f'./data/english/{account}.csv', mode='w') as file:\n",
    "            csv_reader = csv.reader(csv_file, delimiter=',')\n",
    "            writer = csv.writer(file, delimiter=',', quotechar='\"', quoting=csv.QUOTE_MINIMAL)\n",
    "            keys = next(csv_reader)\n",
    "            writer.writerow(keys)\n",
    "            translated_tweets.append(keys)\n",
    "            for row in csv_reader:\n",
    "                if (inRange(row, '2019-07-01', '2019-12-31')):\n",
    "                    total_chars += len(row[6])\n",
    "                    text = row[6]\n",
    "                    trans_text = translator.translate([text], dest='en')\n",
    "                    for trans in trans_text:\n",
    "                        row[6] = trans.text\n",
    "                    writer.writerow(row)"
   ]
  },
  {
   "cell_type": "code",
   "execution_count": null,
   "metadata": {},
   "outputs": [],
   "source": []
  }
 ],
 "metadata": {
  "kernelspec": {
   "display_name": "Python 3",
   "language": "python",
   "name": "python3"
  },
  "language_info": {
   "codemirror_mode": {
    "name": "ipython",
    "version": 3
   },
   "file_extension": ".py",
   "mimetype": "text/x-python",
   "name": "python",
   "nbconvert_exporter": "python",
   "pygments_lexer": "ipython3",
   "version": "3.6.1"
  }
 },
 "nbformat": 4,
 "nbformat_minor": 2
}
