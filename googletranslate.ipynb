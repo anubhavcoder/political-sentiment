{
 "cells": [
  {
   "cell_type": "code",
   "execution_count": 1,
   "metadata": {},
   "outputs": [
    {
     "name": "stdout",
     "output_type": "stream",
     "text": [
      "Collecting googletrans\n",
      "  Downloading https://files.pythonhosted.org/packages/fd/f0/a22d41d3846d1f46a4f20086141e0428ccc9c6d644aacbfd30990cf46886/googletrans-2.4.0.tar.gz\n",
      "Requirement already satisfied: requests in /opt/anaconda3/lib/python3.7/site-packages (from googletrans) (2.22.0)\n",
      "Requirement already satisfied: chardet<3.1.0,>=3.0.2 in /opt/anaconda3/lib/python3.7/site-packages (from requests->googletrans) (3.0.4)\n",
      "Requirement already satisfied: urllib3!=1.25.0,!=1.25.1,<1.26,>=1.21.1 in /opt/anaconda3/lib/python3.7/site-packages (from requests->googletrans) (1.24.2)\n",
      "Requirement already satisfied: certifi>=2017.4.17 in /opt/anaconda3/lib/python3.7/site-packages (from requests->googletrans) (2019.9.11)\n",
      "Requirement already satisfied: idna<2.9,>=2.5 in /opt/anaconda3/lib/python3.7/site-packages (from requests->googletrans) (2.8)\n",
      "Building wheels for collected packages: googletrans\n",
      "  Building wheel for googletrans (setup.py) ... \u001b[?25ldone\n",
      "\u001b[?25h  Created wheel for googletrans: filename=googletrans-2.4.0-cp37-none-any.whl size=15776 sha256=ab75a5f661cc87a58958e0a43457c2890b9a2e5c8e674059db1c9eac90ba7d7c\n",
      "  Stored in directory: /Users/meghanmandi/Library/Caches/pip/wheels/50/d6/e7/a8efd5f2427d5eb258070048718fa56ee5ac57fd6f53505f95\n",
      "Successfully built googletrans\n",
      "Installing collected packages: googletrans\n",
      "Successfully installed googletrans-2.4.0\n",
      "Note: you may need to restart the kernel to use updated packages.\n"
     ]
    }
   ],
   "source": [
    "pip install googletrans"
   ]
  },
  {
   "cell_type": "code",
   "execution_count": 15,
   "metadata": {
    "scrolled": true
   },
   "outputs": [
    {
     "name": "stdout",
     "output_type": "stream",
     "text": [
      "Humble tribute. They make an invaluable contribution in the field of education\n",
      "The freedom of movement\n",
      "Apple\n",
      "Tomorrow bright and developmental, prosperity. Asking\n"
     ]
    }
   ],
   "source": [
    "from googletrans import Translator\n",
    "translator = Translator()\n",
    "data= ['विनम्र श्रद्धांजलि। उन्होंने शिक्षा के क्षेत्र में अमूल्य योगदान देने', 'manzana', ' لغدٍ مشرق بالنماء والرخاء. سائلين']\n",
    "#so can we just replace the data with text in the .csv files?? \n",
    "translator.translate(data)\n",
    "translated = translator.translate(data, dest='en')\n",
    "\n",
    "for trans in translated:\n",
    "    print(trans.text)"
   ]
  },
  {
   "cell_type": "markdown",
   "metadata": {},
   "source": [
    "All English:\n",
    "realDonaldTrump\n",
    "BernieSanders\n",
    "JoeBiden\n",
    "BorisJohnson\n",
    "jeremycorbyn\n",
    "Keir_Starmer\n",
    "RoyalFamily\n",
    "MBuhari\n",
    "atiku\n",
    "PresidencyZA\n",
    "CyrilRamaphosa\n",
    "jsteenhuisen\n",
    "ScottMorrisonMP\n",
    "AlboMP\n",
    "CanadianPM\n",
    "\n",
    "Consistently more than one language:\n",
    "JustinTrudeau\n",
    "AndrewScheer\n",
    "narendramodi\n",
    "PMOIndia\n",
    "INCIndia\n",
    "\n",
    "Almost all not English:\n",
    "EmmanuelMacron\n",
    "laurentwauquiez\n",
    "jairbolsonaro\n",
    "LulaOficial\n",
    "alferdez\n",
    "mauriciomacri\n",
    "lopezobrador_\n",
    "JoseAMeadeK\n",
    "KingSalman"
   ]
  }
 ],
 "metadata": {
  "kernelspec": {
   "display_name": "Python 3",
   "language": "python",
   "name": "python3"
  },
  "language_info": {
   "codemirror_mode": {
    "name": "ipython",
    "version": 3
   },
   "file_extension": ".py",
   "mimetype": "text/x-python",
   "name": "python",
   "nbconvert_exporter": "python",
   "pygments_lexer": "ipython3",
   "version": "3.7.4"
  }
 },
 "nbformat": 4,
 "nbformat_minor": 2
}
